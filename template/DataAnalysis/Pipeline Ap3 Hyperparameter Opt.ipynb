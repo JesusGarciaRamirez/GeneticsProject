{
 "cells": [
  {
   "cell_type": "code",
   "execution_count": 1,
   "metadata": {},
   "outputs": [],
   "source": [
    "from utils_tables import *\n",
    "import os \n",
    "import seaborn as sns\n",
    "import pandas as pd\n",
    "from sklearn import preprocessing\n",
    "import matplotlib.pyplot as plt"
   ]
  },
  {
   "cell_type": "code",
   "execution_count": 2,
   "metadata": {},
   "outputs": [],
   "source": [
    "#Set-up\n",
    "os.chdir(os.path.join(os.getcwd(),'..'))\n",
    "dir_folder=os.path.join(os.getcwd() ,\"Tuning\")"
   ]
  },
  {
   "cell_type": "code",
   "execution_count": 3,
   "metadata": {},
   "outputs": [],
   "source": [
    "exp_type=\"\"\n",
    "metric_list=[\"Av_Best\",\"Eff_1\"]\n",
    "Parameters=[\"PR_CROSS\",\"PR_MUT\",\"CROSS\",\"MUT\"]\n",
    "criteria=\"CritSum\""
   ]
  },
  {
   "cell_type": "code",
   "execution_count": null,
   "metadata": {},
   "outputs": [],
   "source": [
    "class_name_list=[name for name in os.listdir(dir_folder) if \"Results_rondrit\" in name]\n",
    "#create class_list (as dict)\n",
    "class_dict={}\n",
    "\n",
    "for class_name in class_name_list:\n",
    "    class_dict[class_name] = table_class(class_name,dir_folder,exp_type,metric_list)"
   ]
  },
  {
   "cell_type": "code",
   "execution_count": null,
   "metadata": {},
   "outputs": [],
   "source": [
    "df_dict=table_pipeline_basic(class_dict,drop=False)\n",
    "def_table=pd.concat(df_dict.values())\n",
    "def_table.head()"
   ]
  },
  {
   "cell_type": "code",
   "execution_count": null,
   "metadata": {
    "scrolled": true
   },
   "outputs": [],
   "source": [
    "rank_table=rank_tables(df_dict,Parameters)"
   ]
  },
  {
   "cell_type": "code",
   "execution_count": null,
   "metadata": {},
   "outputs": [],
   "source": [
    "rank_table.head()"
   ]
  },
  {
   "cell_type": "code",
   "execution_count": null,
   "metadata": {},
   "outputs": [],
   "source": [
    "table_path=os.path.join(results_path,\"Ap1_rank_table.csv\")\n",
    "rank_table.to_csv(table_path)"
   ]
  },
  {
   "cell_type": "markdown",
   "metadata": {},
   "source": [
    "# Plotting (Coarse)"
   ]
  },
  {
   "cell_type": "code",
   "execution_count": null,
   "metadata": {
    "scrolled": true
   },
   "outputs": [],
   "source": [
    "for key in df_dict.keys():\n",
    "    sns.catplot(x=\"CROSS\", y=\"Av_Best_unit\",hue=\"MUT\",kind=\"box\", data=df_dict[key]);\n",
    "\n"
   ]
  },
  {
   "cell_type": "code",
   "execution_count": null,
   "metadata": {
    "scrolled": true
   },
   "outputs": [],
   "source": [
    "for key in df_dict.keys():\n",
    "    sns.catplot(x=\"CROSS\", y=\"CritSum\",hue=\"MUT\",kind=\"box\", data=df_dict[key]);\n"
   ]
  },
  {
   "cell_type": "markdown",
   "metadata": {},
   "source": [
    "# Pr_Cross/Mut for best Cross,Mut"
   ]
  },
  {
   "cell_type": "code",
   "execution_count": null,
   "metadata": {},
   "outputs": [],
   "source": [
    "crop_dict=crop_table_best(df_dict)"
   ]
  },
  {
   "cell_type": "code",
   "execution_count": null,
   "metadata": {
    "scrolled": true
   },
   "outputs": [],
   "source": [
    "for key in df_dict.keys():\n",
    "    sns.catplot(x=\"CROSS\", y=\"CritSum\",hue=\"MUT\",kind=\"box\", data=crop_dict[key]);"
   ]
  },
  {
   "cell_type": "markdown",
   "metadata": {},
   "source": [
    "# Pr Cross Finetune Results"
   ]
  },
  {
   "cell_type": "markdown",
   "metadata": {},
   "source": [
    "# Coarse  %_Cross in [0.1,1]\n"
   ]
  },
  {
   "cell_type": "code",
   "execution_count": null,
   "metadata": {},
   "outputs": [],
   "source": [
    "exp_type=\"finetune_\"\n",
    "\n",
    "exp_type=\"PR_CROSS_\"\n",
    "finetune_class_dict=create_tables(dir_folder,metric_list,exp_type)"
   ]
  },
  {
   "cell_type": "code",
   "execution_count": null,
   "metadata": {},
   "outputs": [],
   "source": [
    "df_dict_finetune=table_pipeline_basic(finetune_class_dict,drop=False)\n",
    "def_table_finetune=pd.concat(df_dict_finetune.values())\n",
    "def_table_finetune.head()"
   ]
  },
  {
   "cell_type": "code",
   "execution_count": null,
   "metadata": {},
   "outputs": [],
   "source": [
    "sns.relplot(x=\"PR_CROSS\", y=\"CritSum\", hue=\"Dataset\",col=\"Dataset\" ,data=def_table_finetune);"
   ]
  },
  {
   "cell_type": "markdown",
   "metadata": {},
   "source": [
    "# FineGrained %_Cross in [0.8,1]\n"
   ]
  },
  {
   "cell_type": "code",
   "execution_count": 4,
   "metadata": {},
   "outputs": [],
   "source": [
    "exp_type=\"PR_CROSS_\"\n",
    "fg_class_dict=create_tables(dir_folder,metric_list,exp_type)"
   ]
  },
  {
   "cell_type": "code",
   "execution_count": 5,
   "metadata": {},
   "outputs": [
    {
     "data": {
      "text/html": [
       "<div>\n",
       "<style scoped>\n",
       "    .dataframe tbody tr th:only-of-type {\n",
       "        vertical-align: middle;\n",
       "    }\n",
       "\n",
       "    .dataframe tbody tr th {\n",
       "        vertical-align: top;\n",
       "    }\n",
       "\n",
       "    .dataframe thead th {\n",
       "        text-align: right;\n",
       "    }\n",
       "</style>\n",
       "<table border=\"1\" class=\"dataframe\">\n",
       "  <thead>\n",
       "    <tr style=\"text-align: right;\">\n",
       "      <th></th>\n",
       "      <th>CROSS</th>\n",
       "      <th>MUT</th>\n",
       "      <th>PR_CROSS</th>\n",
       "      <th>PR_MUT</th>\n",
       "      <th>Av_Best</th>\n",
       "      <th>Peak_Best</th>\n",
       "      <th>Eff_1</th>\n",
       "      <th>Av_Best_unit</th>\n",
       "      <th>Eff_1_unit</th>\n",
       "      <th>Dataset</th>\n",
       "      <th>CritSum</th>\n",
       "    </tr>\n",
       "  </thead>\n",
       "  <tbody>\n",
       "    <tr>\n",
       "      <th>0</th>\n",
       "      <td>cross_sequential_constructive</td>\n",
       "      <td>mut_RSM</td>\n",
       "      <td>0.864864</td>\n",
       "      <td>0.2</td>\n",
       "      <td>3.427602</td>\n",
       "      <td>3.349954</td>\n",
       "      <td>0.011131</td>\n",
       "      <td>0.000000</td>\n",
       "      <td>0.485195</td>\n",
       "      <td>rondrit016</td>\n",
       "      <td>0.242597</td>\n",
       "    </tr>\n",
       "    <tr>\n",
       "      <th>1</th>\n",
       "      <td>cross_sequential_constructive</td>\n",
       "      <td>mut_RSM</td>\n",
       "      <td>0.875608</td>\n",
       "      <td>0.2</td>\n",
       "      <td>3.407498</td>\n",
       "      <td>3.349954</td>\n",
       "      <td>0.011068</td>\n",
       "      <td>0.491344</td>\n",
       "      <td>0.239027</td>\n",
       "      <td>rondrit016</td>\n",
       "      <td>0.365185</td>\n",
       "    </tr>\n",
       "    <tr>\n",
       "      <th>2</th>\n",
       "      <td>cross_sequential_constructive</td>\n",
       "      <td>mut_RSM</td>\n",
       "      <td>0.889805</td>\n",
       "      <td>0.2</td>\n",
       "      <td>3.404063</td>\n",
       "      <td>3.349954</td>\n",
       "      <td>0.011211</td>\n",
       "      <td>0.575286</td>\n",
       "      <td>0.796150</td>\n",
       "      <td>rondrit016</td>\n",
       "      <td>0.685718</td>\n",
       "    </tr>\n",
       "    <tr>\n",
       "      <th>3</th>\n",
       "      <td>cross_sequential_constructive</td>\n",
       "      <td>mut_RSM</td>\n",
       "      <td>0.822601</td>\n",
       "      <td>0.2</td>\n",
       "      <td>3.407827</td>\n",
       "      <td>3.349954</td>\n",
       "      <td>0.011007</td>\n",
       "      <td>0.483309</td>\n",
       "      <td>0.000000</td>\n",
       "      <td>rondrit016</td>\n",
       "      <td>0.241654</td>\n",
       "    </tr>\n",
       "    <tr>\n",
       "      <th>4</th>\n",
       "      <td>cross_sequential_constructive</td>\n",
       "      <td>mut_RSM</td>\n",
       "      <td>0.900267</td>\n",
       "      <td>0.2</td>\n",
       "      <td>3.386685</td>\n",
       "      <td>3.349954</td>\n",
       "      <td>0.011219</td>\n",
       "      <td>1.000000</td>\n",
       "      <td>0.829572</td>\n",
       "      <td>rondrit016</td>\n",
       "      <td>0.914786</td>\n",
       "    </tr>\n",
       "  </tbody>\n",
       "</table>\n",
       "</div>"
      ],
      "text/plain": [
       "                           CROSS      MUT  PR_CROSS  PR_MUT   Av_Best  \\\n",
       "0  cross_sequential_constructive  mut_RSM  0.864864     0.2  3.427602   \n",
       "1  cross_sequential_constructive  mut_RSM  0.875608     0.2  3.407498   \n",
       "2  cross_sequential_constructive  mut_RSM  0.889805     0.2  3.404063   \n",
       "3  cross_sequential_constructive  mut_RSM  0.822601     0.2  3.407827   \n",
       "4  cross_sequential_constructive  mut_RSM  0.900267     0.2  3.386685   \n",
       "\n",
       "   Peak_Best     Eff_1  Av_Best_unit  Eff_1_unit     Dataset   CritSum  \n",
       "0   3.349954  0.011131      0.000000    0.485195  rondrit016  0.242597  \n",
       "1   3.349954  0.011068      0.491344    0.239027  rondrit016  0.365185  \n",
       "2   3.349954  0.011211      0.575286    0.796150  rondrit016  0.685718  \n",
       "3   3.349954  0.011007      0.483309    0.000000  rondrit016  0.241654  \n",
       "4   3.349954  0.011219      1.000000    0.829572  rondrit016  0.914786  "
      ]
     },
     "execution_count": 5,
     "metadata": {},
     "output_type": "execute_result"
    }
   ],
   "source": [
    "df_dict_fg=table_pipeline_basic(fg_class_dict,drop=False)\n",
    "def_table_fg=pd.concat(df_dict_fg.values())\n",
    "def_table_fg.head()"
   ]
  },
  {
   "cell_type": "code",
   "execution_count": 6,
   "metadata": {},
   "outputs": [
    {
     "data": {
      "image/png": "[encoded data removed]",
      "text/plain": [
       "<Figure size 1528.88x360 with 4 Axes>"
      ]
     },
     "metadata": {
      "needs_background": "light"
     },
     "output_type": "display_data"
    }
   ],
   "source": [
    "sns.relplot(x=\"PR_CROSS\", y=\"CritSum\", hue=\"Dataset\",col=\"Dataset\" ,data=def_table_fg);"
   ]
  }
 ],
 "metadata": {
  "kernelspec": {
   "display_name": "Python 3",
   "language": "python",
   "name": "python3"
  },
  "language_info": {
   "codemirror_mode": {
    "name": "ipython",
    "version": 3
   },
   "file_extension": ".py",
   "mimetype": "text/x-python",
   "name": "python",
   "nbconvert_exporter": "python",
   "pygments_lexer": "ipython3",
   "version": "3.7.2"
  }
 },
 "nbformat": 4,
 "nbformat_minor": 2
}
