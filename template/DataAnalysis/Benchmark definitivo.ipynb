{
 "cells": [
  {
   "cell_type": "code",
   "execution_count": 1,
   "metadata": {},
   "outputs": [],
   "source": [
    "from utils_tables import *\n",
    "import os \n",
    "import seaborn as sns\n",
    "import pandas as pd\n",
    "from sklearn import preprocessing\n",
    "import matplotlib.pyplot as plt\n",
    "from scipy.io import loadmat\n",
    "import numpy as np"
   ]
  },
  {
   "cell_type": "code",
   "execution_count": 2,
   "metadata": {},
   "outputs": [],
   "source": [
    "#Set-up\n",
    "dir_folder=\"Res_Benchmark\"\n",
    "with cd(os.path.join(os.getcwd(),'..')):\n",
    "    dir_path=os.path.join(os.path.join(os.getcwd(),dir_folder))\n",
    "    assert os.path.isdir(dir_path), \"Wrong folder\"\n",
    "#     print(scal_path)"
   ]
  },
  {
   "cell_type": "code",
   "execution_count": 3,
   "metadata": {},
   "outputs": [],
   "source": [
    "Datasets=[\"bcl380\",\"rbx711\",\"xqf131\",\"xql662\"]\n",
    "files=[file for file in os.listdir(dir_path) if \"objective\" in file]\n",
    "\n",
    "tables={}\n",
    "for dataset in Datasets:\n",
    "    tables[dataset]=[pd.read_csv(os.path.join(dir_path,file)) for file in files if dataset in file]\n",
    "        "
   ]
  },
  {
   "cell_type": "code",
   "execution_count": 22,
   "metadata": {},
   "outputs": [
    {
     "data": {
      "text/plain": [
       "['Results_performance-bcl380-objective-1801.11.csv',\n",
       " 'Results_performance-bcl380-objective-2431.50.csv',\n",
       " 'Results_performance-rbx711-objective-3461.11.csv',\n",
       " 'Results_performance-rbx711-objective-4672.50.csv',\n",
       " 'Results_performance-xqf131-objective-626.67.csv',\n",
       " 'Results_performance-xqf131-objective-846.00.csv',\n",
       " 'Results_performance-xql662-objective-2792.22.csv',\n",
       " 'Results_performance-xql662-objective-3769.50.csv']"
      ]
     },
     "execution_count": 22,
     "metadata": {},
     "output_type": "execute_result"
    }
   ],
   "source": [
    "files"
   ]
  },
  {
   "cell_type": "code",
   "execution_count": 10,
   "metadata": {},
   "outputs": [],
   "source": [
    "for dataset in Datasets:\n",
    "    for i in range(2):\n",
    "        tables[dataset][i][\"Dataset\"]=dataset\n",
    "    "
   ]
  },
  {
   "cell_type": "code",
   "execution_count": 20,
   "metadata": {},
   "outputs": [],
   "source": [
    "dataset_dict={}\n",
    "for dataset in Datasets:\n",
    "    dataset_dict[dataset]=pd.concat(tables[dataset])\n",
    "def_table=pd.concat(dataset_dict.values())\n",
    "def_table.drop(columns=\"Imp\")\n",
    "\n",
    "def_table=round(def_table,3)\n"
   ]
  },
  {
   "cell_type": "code",
   "execution_count": 21,
   "metadata": {},
   "outputs": [],
   "source": [
    "def_table.to_csv(os.path.join(dir_path,\"summary_benchmarks.csv\"),index=False)"
   ]
  }
 ],
 "metadata": {
  "kernelspec": {
   "display_name": "Python 3",
   "language": "python",
   "name": "python3"
  },
  "language_info": {
   "codemirror_mode": {
    "name": "ipython",
    "version": 3
   },
   "file_extension": ".py",
   "mimetype": "text/x-python",
   "name": "python",
   "nbconvert_exporter": "python",
   "pygments_lexer": "ipython3",
   "version": "3.7.2"
  }
 },
 "nbformat": 4,
 "nbformat_minor": 2
}
